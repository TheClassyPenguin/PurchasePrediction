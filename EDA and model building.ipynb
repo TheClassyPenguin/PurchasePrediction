{
 "cells": [
  {
   "cell_type": "markdown",
   "metadata": {},
   "source": [
    "# Exploratory data analysis <a id='EDA'></a>\n",
    "\n",
    "The first thing after getting familiar with the problem is to examine the data given to us, look for errors and try to ammend them when possible or exclude them from our pool of data if it's beyond saving.\n",
    "\n",
    "Next we will be importing a couple of tools that will help us with data exploration:\n",
    "\n",
    "- Numpy: The mathematical library for python used for nearly every single other library.\n",
    "- Pandas: A data manupulation tool that highly resembles conceptually R dataframes.\n",
    "- Matplotlib: A data visualization library. We will be mainly using Panda's API for matplotlib as it's far more untuitive and concise but it is useful to have it as Pandas doesn't include all its functionality.\n",
    "- Scikit-learn: A marvelous tool for concise tool for machine learning and data manipulation that also contains a lot of functions compatible with pandas dataframes.\n",
    "- Seaborn: Only to aesthetically modify pandas charts.\n",
    "- Tqdm: For progress bars in long processes\n"
   ]
  },
  {
   "cell_type": "code",
   "execution_count": 1,
   "metadata": {},
   "outputs": [
    {
     "name": "stdout",
     "output_type": "stream",
     "text": [
      "['clicks.csv']\n"
     ]
    },
    {
     "name": "stderr",
     "output_type": "stream",
     "text": [
      "Process ForkPoolWorker-3:\n",
      "Process ForkPoolWorker-2:\n",
      "Process ForkPoolWorker-4:\n",
      "Process ForkPoolWorker-1:\n"
     ]
    }
   ],
   "source": [
    "import numpy as np # linear algebra\n",
    "import pandas as pd # data processing, CSV file I/O (e.g. pd.read_csv)\n",
    "import xgboost as xgboost\n",
    "import matplotlib.pyplot as plt\n",
    "import matplotlib.patches as mpatches\n",
    "from sklearn.model_selection import train_test_split\n",
    "#Seaborn graph beautifying\n",
    "import seaborn as sns\n",
    "from tqdm import tqdm\n",
    "sns.set()\n",
    "\n",
    "import multiprocessing\n",
    "\n",
    "try:\n",
    "    cpus = multiprocessing.cpu_count()\n",
    "except NotImplementedError:\n",
    "    cpus = 2   # arbitrary default\n",
    "    \n",
    "pool = multiprocessing.Pool(processes=cpus)\n",
    "\n",
    "dateFeatures = ['date', 'checkin', 'checkout']\n",
    "idFeatures = ['remite_id', 'hotel_id']\n",
    "valueFeatures = ['adults', 'children']\n",
    "targetFeature = 'sale'\n",
    "weekdays = ['Monday','Tuesday','Wednesday','Thursday','Friday','Saturday','Sunday']\n",
    "    \n",
    "import os\n",
    "print(os.listdir(\"./Data\"))"
   ]
  },
  {
   "cell_type": "markdown",
   "metadata": {},
   "source": [
    "After importing the data from the csv we use df.info() to get a high level picture of the situation. This will reveal the amount of null values in our data and any errors in the imported datatypes. "
   ]
  },
  {
   "cell_type": "code",
   "execution_count": 2,
   "metadata": {},
   "outputs": [
    {
     "name": "stdout",
     "output_type": "stream",
     "text": [
      "<class 'pandas.core.frame.DataFrame'>\n",
      "RangeIndex: 158161 entries, 0 to 158160\n",
      "Data columns (total 8 columns):\n",
      "date         158161 non-null object\n",
      "remite_id    158161 non-null int64\n",
      "checkin      158161 non-null object\n",
      "checkout     158161 non-null object\n",
      "adults       158161 non-null int64\n",
      "children     158161 non-null int64\n",
      "hotel_id     158161 non-null int64\n",
      "sale         158161 non-null int64\n",
      "dtypes: int64(5), object(3)\n",
      "memory usage: 9.7+ MB\n"
     ]
    }
   ],
   "source": [
    "dataset = pd.read_csv(\"./Data/clicks.csv\")\n",
    "dataset.info()"
   ]
  },
  {
   "cell_type": "markdown",
   "metadata": {},
   "source": [
    "### Date correction <a id='DC'></a>\n",
    "Everything seems ok except the dates that have been imported as objects, we will now correct the type to date so we can use some of pandas functions."
   ]
  },
  {
   "cell_type": "code",
   "execution_count": 3,
   "metadata": {},
   "outputs": [],
   "source": [
    "dataset['date'] = dataset['date'].astype('datetime64[ns]')\n",
    "dataset['checkin'] = dataset['checkin'].astype('datetime64[ns]')\n",
    "dataset['checkout'] = dataset['checkout'].astype('datetime64[ns]')"
   ]
  },
  {
   "cell_type": "markdown",
   "metadata": {},
   "source": [
    "Now each column has the correct datatype it is time to separate our data into training and test sets.\n",
    "\n",
    "We will only be performing our analysis on the training part of our data so the test data remains unseen and we can trully validate if our analysis is generalisable or if we are just overfitting."
   ]
  },
  {
   "cell_type": "code",
   "execution_count": 4,
   "metadata": {},
   "outputs": [
    {
     "data": {
      "text/html": [
       "<div>\n",
       "<style scoped>\n",
       "    .dataframe tbody tr th:only-of-type {\n",
       "        vertical-align: middle;\n",
       "    }\n",
       "\n",
       "    .dataframe tbody tr th {\n",
       "        vertical-align: top;\n",
       "    }\n",
       "\n",
       "    .dataframe thead th {\n",
       "        text-align: right;\n",
       "    }\n",
       "</style>\n",
       "<table border=\"1\" class=\"dataframe\">\n",
       "  <thead>\n",
       "    <tr style=\"text-align: right;\">\n",
       "      <th></th>\n",
       "      <th>date</th>\n",
       "      <th>remite_id</th>\n",
       "      <th>checkin</th>\n",
       "      <th>checkout</th>\n",
       "      <th>adults</th>\n",
       "      <th>children</th>\n",
       "      <th>hotel_id</th>\n",
       "      <th>sale</th>\n",
       "    </tr>\n",
       "  </thead>\n",
       "  <tbody>\n",
       "    <tr>\n",
       "      <th>145654</th>\n",
       "      <td>2016-04-07</td>\n",
       "      <td>27</td>\n",
       "      <td>2016-04-16</td>\n",
       "      <td>2016-04-17</td>\n",
       "      <td>1</td>\n",
       "      <td>0</td>\n",
       "      <td>207025</td>\n",
       "      <td>0</td>\n",
       "    </tr>\n",
       "    <tr>\n",
       "      <th>92803</th>\n",
       "      <td>2016-04-05</td>\n",
       "      <td>130</td>\n",
       "      <td>2016-04-14</td>\n",
       "      <td>2016-04-15</td>\n",
       "      <td>2</td>\n",
       "      <td>0</td>\n",
       "      <td>185998</td>\n",
       "      <td>0</td>\n",
       "    </tr>\n",
       "    <tr>\n",
       "      <th>89655</th>\n",
       "      <td>2016-04-04</td>\n",
       "      <td>130</td>\n",
       "      <td>2016-07-01</td>\n",
       "      <td>2016-07-05</td>\n",
       "      <td>2</td>\n",
       "      <td>1</td>\n",
       "      <td>191200</td>\n",
       "      <td>0</td>\n",
       "    </tr>\n",
       "    <tr>\n",
       "      <th>146481</th>\n",
       "      <td>2016-04-07</td>\n",
       "      <td>27</td>\n",
       "      <td>2016-04-28</td>\n",
       "      <td>2016-05-01</td>\n",
       "      <td>3</td>\n",
       "      <td>1</td>\n",
       "      <td>1719</td>\n",
       "      <td>0</td>\n",
       "    </tr>\n",
       "    <tr>\n",
       "      <th>77875</th>\n",
       "      <td>2016-04-04</td>\n",
       "      <td>27</td>\n",
       "      <td>2016-08-07</td>\n",
       "      <td>2016-08-12</td>\n",
       "      <td>2</td>\n",
       "      <td>0</td>\n",
       "      <td>4265</td>\n",
       "      <td>0</td>\n",
       "    </tr>\n",
       "  </tbody>\n",
       "</table>\n",
       "</div>"
      ],
      "text/plain": [
       "             date  remite_id    checkin   checkout  adults  children  \\\n",
       "145654 2016-04-07         27 2016-04-16 2016-04-17       1         0   \n",
       "92803  2016-04-05        130 2016-04-14 2016-04-15       2         0   \n",
       "89655  2016-04-04        130 2016-07-01 2016-07-05       2         1   \n",
       "146481 2016-04-07         27 2016-04-28 2016-05-01       3         1   \n",
       "77875  2016-04-04         27 2016-08-07 2016-08-12       2         0   \n",
       "\n",
       "        hotel_id  sale  \n",
       "145654    207025     0  \n",
       "92803     185998     0  \n",
       "89655     191200     0  \n",
       "146481      1719     0  \n",
       "77875       4265     0  "
      ]
     },
     "execution_count": 4,
     "metadata": {},
     "output_type": "execute_result"
    }
   ],
   "source": [
    "dataset_labels = dataset.pop('sale')\n",
    "X_train, X_test, y_train, y_test = train_test_split(dataset, dataset_labels ,test_size=0.2, random_state = 42)\n",
    "dataset = X_train.copy() #pd.concat([X_train, y_train])\n",
    "dataset['sale'] = y_train\n",
    "dataset['date'] = dataset['date'].astype('datetime64[ns]')\n",
    "dataset['checkin'] = dataset['checkin'].astype('datetime64[ns]')\n",
    "dataset['checkout'] = dataset['checkout'].astype('datetime64[ns]')\n",
    "dataset.head()"
   ]
  },
  {
   "cell_type": "markdown",
   "metadata": {},
   "source": [
    "## Target Variable Analysis <a id='TVA'></a>"
   ]
  },
  {
   "cell_type": "code",
   "execution_count": 5,
   "metadata": {},
   "outputs": [
    {
     "data": {
      "text/plain": [
       "array([0, 1])"
      ]
     },
     "execution_count": 5,
     "metadata": {},
     "output_type": "execute_result"
    }
   ],
   "source": [
    "dataset[targetFeature].unique()"
   ]
  },
  {
   "cell_type": "markdown",
   "metadata": {},
   "source": [
    "No NaN values only 0 or 1 discrete values. With 0 indicating no sale and 1 indicating a sale. Let's have a look at the sales rate and see how sparse it is."
   ]
  },
  {
   "cell_type": "code",
   "execution_count": 6,
   "metadata": {},
   "outputs": [
    {
     "name": "stdout",
     "output_type": "stream",
     "text": [
      "Total number of labels: 126528\n",
      "Number of 0: 124060\n",
      "Number of 1: 2468\n",
      "Target variable balance: 1.9893599871030145 % sales\n"
     ]
    }
   ],
   "source": [
    "print(\"Total number of labels: {}\".format(dataset.shape[0]))\n",
    "numZero = dataset[dataset[targetFeature] == 0].shape[0]\n",
    "numOne = dataset[dataset[targetFeature] == 1].shape[0]\n",
    "print(\"Number of 0: {}\".format(numZero))\n",
    "print(\"Number of 1: {}\".format(numOne))\n",
    "print(\"Target variable balance: {0}\".format((numOne/numZero)*100),\"% sales\")"
   ]
  },
  {
   "cell_type": "code",
   "execution_count": 7,
   "metadata": {},
   "outputs": [
    {
     "data": {
      "image/png": "[encoded data removed]",
      "text/plain": [
       "<Figure size 432x288 with 1 Axes>"
      ]
     },
     "metadata": {},
     "output_type": "display_data"
    }
   ],
   "source": [
    "dataset[targetFeature].value_counts().plot(kind='bar')\n",
    "plt.show()"
   ]
  },
  {
   "cell_type": "markdown",
   "metadata": {},
   "source": [
    "Sparse number of sales. Most consultations don't end in a purchase. To be expected.\n",
    "\n",
    "If we had user identifying features we could look at the problem as a sequence of consultations and which ones result in a sale. Some type of clustering might allow us to de-anonimize the data potentially, should be looked into.  "
   ]
  },
  {
   "cell_type": "markdown",
   "metadata": {},
   "source": [
    "## Independent variable Analysis <a id='IVA'></a>\n",
    "\n",
    "We will now have a look at the variables that will be used to predict sales.\n",
    "\n",
    "### Data cleaning <a id='IVADC'></a>"
   ]
  },
  {
   "cell_type": "code",
   "execution_count": 8,
   "metadata": {},
   "outputs": [
    {
     "data": {
      "text/plain": [
       "date         0\n",
       "remite_id    0\n",
       "checkin      0\n",
       "checkout     0\n",
       "adults       0\n",
       "children     0\n",
       "hotel_id     0\n",
       "sale         0\n",
       "dtype: int64"
      ]
     },
     "execution_count": 8,
     "metadata": {},
     "output_type": "execute_result"
    }
   ],
   "source": [
    "dataset.isnull().sum()"
   ]
  },
  {
   "cell_type": "markdown",
   "metadata": {},
   "source": [
    "As we previously saw briefly with df.info() the dataset is surprisingly clean and doesn't require us to interpret any null values which is good.\n",
    "\n",
    "### Adults and children <a id='IVAAC'></a>\n",
    "\n",
    "There are no continuous pieces of data in this dataset, however, it can be beneficial to treat some of them like the amount of adults and children depending on the interpretation. \n",
    "\n",
    "In other words, is a 0 children booking categorically different to a 2 children booking or can it be considered as part of a continuous scale? \n",
    "\n",
    "My first instinct is that the type of customer that has 0 children might be younger and not have kids while a person with 2 might be planning a family vacation and might want to opt for completely other kinds of hotels."
   ]
  },
  {
   "cell_type": "code",
   "execution_count": 9,
   "metadata": {},
   "outputs": [
    {
     "data": {
      "text/plain": [
       "array([[<matplotlib.axes._subplots.AxesSubplot object at 0x7fbd380a7208>,\n",
       "        <matplotlib.axes._subplots.AxesSubplot object at 0x7fbd38107940>]],\n",
       "      dtype=object)"
      ]
     },
     "execution_count": 9,
     "metadata": {},
     "output_type": "execute_result"
    },
    {
     "data": {
      "image/png": "[encoded data removed]",
      "text/plain": [
       "<Figure size 432x288 with 2 Axes>"
      ]
     },
     "metadata": {},
     "output_type": "display_data"
    }
   ],
   "source": [
    "dataset[valueFeatures].hist()"
   ]
  },
  {
   "cell_type": "markdown",
   "metadata": {},
   "source": [
    "It seems like the most popular way of travelling is in couples and the most popular amount of children to bring with you is unsurprisingly none. \n",
    "\n",
    "It is also good to note there are no bookings being done with 0 adults, if this occured it could be a sign that our data is not correct as this is highly irregular as even airbnb will automatically add one adult when the amount of children is non-zero.\n",
    "\n",
    "We will now explore if there is a correlation between the number of guests (adults and children) and how likely is a sale to happen in a given click."
   ]
  },
  {
   "cell_type": "code",
   "execution_count": 10,
   "metadata": {},
   "outputs": [
    {
     "data": {
      "text/html": [
       "<div>\n",
       "<style scoped>\n",
       "    .dataframe tbody tr th:only-of-type {\n",
       "        vertical-align: middle;\n",
       "    }\n",
       "\n",
       "    .dataframe tbody tr th {\n",
       "        vertical-align: top;\n",
       "    }\n",
       "\n",
       "    .dataframe thead th {\n",
       "        text-align: right;\n",
       "    }\n",
       "</style>\n",
       "<table border=\"1\" class=\"dataframe\">\n",
       "  <thead>\n",
       "    <tr style=\"text-align: right;\">\n",
       "      <th></th>\n",
       "      <th>adults</th>\n",
       "      <th>children</th>\n",
       "      <th>sale</th>\n",
       "    </tr>\n",
       "  </thead>\n",
       "  <tbody>\n",
       "    <tr>\n",
       "      <th>adults</th>\n",
       "      <td>1.000000</td>\n",
       "      <td>0.000545</td>\n",
       "      <td>-0.025734</td>\n",
       "    </tr>\n",
       "    <tr>\n",
       "      <th>children</th>\n",
       "      <td>0.000545</td>\n",
       "      <td>1.000000</td>\n",
       "      <td>-0.011733</td>\n",
       "    </tr>\n",
       "    <tr>\n",
       "      <th>sale</th>\n",
       "      <td>-0.025734</td>\n",
       "      <td>-0.011733</td>\n",
       "      <td>1.000000</td>\n",
       "    </tr>\n",
       "  </tbody>\n",
       "</table>\n",
       "</div>"
      ],
      "text/plain": [
       "            adults  children      sale\n",
       "adults    1.000000  0.000545 -0.025734\n",
       "children  0.000545  1.000000 -0.011733\n",
       "sale     -0.025734 -0.011733  1.000000"
      ]
     },
     "execution_count": 10,
     "metadata": {},
     "output_type": "execute_result"
    }
   ],
   "source": [
    "dataset[valueFeatures+[targetFeature]].corr()"
   ]
  },
  {
   "cell_type": "markdown",
   "metadata": {},
   "source": [
    "The data shows no particular correlation between the amount of adults and children in a trip and how likely it is to be sold."
   ]
  },
  {
   "cell_type": "markdown",
   "metadata": {},
   "source": [
    "### Site interactions in a given day <a id='IVASIIAG'></a>\n",
    "\n",
    "Interpreting this problem as a time series problem might result in interesting insights. This approach could allow us to see any trends or periodicity in how likely a hotel is to be booked."
   ]
  },
  {
   "cell_type": "code",
   "execution_count": 11,
   "metadata": {},
   "outputs": [
    {
     "data": {
      "text/html": [
       "<div>\n",
       "<style scoped>\n",
       "    .dataframe tbody tr th:only-of-type {\n",
       "        vertical-align: middle;\n",
       "    }\n",
       "\n",
       "    .dataframe tbody tr th {\n",
       "        vertical-align: top;\n",
       "    }\n",
       "\n",
       "    .dataframe thead th {\n",
       "        text-align: right;\n",
       "    }\n",
       "</style>\n",
       "<table border=\"1\" class=\"dataframe\">\n",
       "  <thead>\n",
       "    <tr style=\"text-align: right;\">\n",
       "      <th></th>\n",
       "      <th>remite_id</th>\n",
       "      <th>checkin</th>\n",
       "      <th>checkout</th>\n",
       "      <th>adults</th>\n",
       "      <th>children</th>\n",
       "      <th>hotel_id</th>\n",
       "      <th>sale</th>\n",
       "    </tr>\n",
       "    <tr>\n",
       "      <th>date</th>\n",
       "      <th></th>\n",
       "      <th></th>\n",
       "      <th></th>\n",
       "      <th></th>\n",
       "      <th></th>\n",
       "      <th></th>\n",
       "      <th></th>\n",
       "    </tr>\n",
       "  </thead>\n",
       "  <tbody>\n",
       "    <tr>\n",
       "      <th>2016-04-01</th>\n",
       "      <td>19542</td>\n",
       "      <td>19542</td>\n",
       "      <td>19542</td>\n",
       "      <td>19542</td>\n",
       "      <td>19542</td>\n",
       "      <td>19542</td>\n",
       "      <td>19542</td>\n",
       "    </tr>\n",
       "    <tr>\n",
       "      <th>2016-04-02</th>\n",
       "      <td>15236</td>\n",
       "      <td>15236</td>\n",
       "      <td>15236</td>\n",
       "      <td>15236</td>\n",
       "      <td>15236</td>\n",
       "      <td>15236</td>\n",
       "      <td>15236</td>\n",
       "    </tr>\n",
       "    <tr>\n",
       "      <th>2016-04-03</th>\n",
       "      <td>18852</td>\n",
       "      <td>18852</td>\n",
       "      <td>18852</td>\n",
       "      <td>18852</td>\n",
       "      <td>18852</td>\n",
       "      <td>18852</td>\n",
       "      <td>18852</td>\n",
       "    </tr>\n",
       "    <tr>\n",
       "      <th>2016-04-04</th>\n",
       "      <td>19958</td>\n",
       "      <td>19958</td>\n",
       "      <td>19958</td>\n",
       "      <td>19958</td>\n",
       "      <td>19958</td>\n",
       "      <td>19958</td>\n",
       "      <td>19958</td>\n",
       "    </tr>\n",
       "    <tr>\n",
       "      <th>2016-04-05</th>\n",
       "      <td>18755</td>\n",
       "      <td>18755</td>\n",
       "      <td>18755</td>\n",
       "      <td>18755</td>\n",
       "      <td>18755</td>\n",
       "      <td>18755</td>\n",
       "      <td>18755</td>\n",
       "    </tr>\n",
       "    <tr>\n",
       "      <th>2016-04-06</th>\n",
       "      <td>17893</td>\n",
       "      <td>17893</td>\n",
       "      <td>17893</td>\n",
       "      <td>17893</td>\n",
       "      <td>17893</td>\n",
       "      <td>17893</td>\n",
       "      <td>17893</td>\n",
       "    </tr>\n",
       "    <tr>\n",
       "      <th>2016-04-07</th>\n",
       "      <td>16292</td>\n",
       "      <td>16292</td>\n",
       "      <td>16292</td>\n",
       "      <td>16292</td>\n",
       "      <td>16292</td>\n",
       "      <td>16292</td>\n",
       "      <td>16292</td>\n",
       "    </tr>\n",
       "  </tbody>\n",
       "</table>\n",
       "</div>"
      ],
      "text/plain": [
       "            remite_id  checkin  checkout  adults  children  hotel_id   sale\n",
       "date                                                                       \n",
       "2016-04-01      19542    19542     19542   19542     19542     19542  19542\n",
       "2016-04-02      15236    15236     15236   15236     15236     15236  15236\n",
       "2016-04-03      18852    18852     18852   18852     18852     18852  18852\n",
       "2016-04-04      19958    19958     19958   19958     19958     19958  19958\n",
       "2016-04-05      18755    18755     18755   18755     18755     18755  18755\n",
       "2016-04-06      17893    17893     17893   17893     17893     17893  17893\n",
       "2016-04-07      16292    16292     16292   16292     16292     16292  16292"
      ]
     },
     "execution_count": 11,
     "metadata": {},
     "output_type": "execute_result"
    }
   ],
   "source": [
    "dataset.groupby(dataset.date).count()"
   ]
  },
  {
   "cell_type": "markdown",
   "metadata": {},
   "source": [
    "We are only given a small period of 7 days to play around with so it is not possible for us to assess anual, monthly or daily seasonality. This might prove to be enough if we only have to predict features in this period.\n",
    "\n",
    "We will replace the date with the day name in case new date ranges are later introduced. "
   ]
  },
  {
   "cell_type": "code",
   "execution_count": 12,
   "metadata": {},
   "outputs": [
    {
     "data": {
      "text/plain": [
       "<matplotlib.axes._subplots.AxesSubplot at 0x7fbd38093128>"
      ]
     },
     "execution_count": 12,
     "metadata": {},
     "output_type": "execute_result"
    },
    {
     "data": {
      "image/png": "[encoded data removed]",
      "text/plain": [
       "<Figure size 432x288 with 1 Axes>"
      ]
     },
     "metadata": {},
     "output_type": "display_data"
    }
   ],
   "source": [
    "dataset.groupby(dataset.date.dt.day_name()).count().remite_id.plot(kind='barh', title=\"Number of website visits per day\")"
   ]
  },
  {
   "cell_type": "code",
   "execution_count": 13,
   "metadata": {},
   "outputs": [
    {
     "data": {
      "text/plain": [
       "<matplotlib.axes._subplots.AxesSubplot at 0x7fbd248f05f8>"
      ]
     },
     "execution_count": 13,
     "metadata": {},
     "output_type": "execute_result"
    },
    {
     "data": {
      "image/png": "[encoded data removed]",
      "text/plain": [
       "<Figure size 432x288 with 1 Axes>"
      ]
     },
     "metadata": {},
     "output_type": "display_data"
    }
   ],
   "source": [
    "daily_likelyhood = dataset.groupby(dataset.date.dt.day_name()).sale.sum() / dataset.groupby(dataset.date.dt.day_name()).sale.count()\n",
    "X_train = X_train.join(pd.get_dummies(X_train.date.dt.day_name()))\n",
    "daily_likelyhood.plot(kind='barh', title=\"Mean probability of purchase per day\")"
   ]
  },
  {
   "cell_type": "markdown",
   "metadata": {},
   "source": [
    "We can very clearly see a diference in the average sale rate during the week. This piece of information could potentially be a valuable augmented feature."
   ]
  },
  {
   "cell_type": "markdown",
   "metadata": {},
   "source": [
    "### Analysis of reservation days <a id='IVAAORD'></a>\n",
    "\n",
    "It is possible to derive a set of interesting features from the checkin and checkout dates:\n",
    "\n",
    "- Stay duration\n",
    "- Distance between reservation and consultation\n",
    "- Vacations\n",
    "- Day of the year as a cyclic feature\n",
    "\n",
    "#### Stay duration <a id='SD'></a>\n",
    "\n",
    "The distance between the check-in and check-out dates might reveal with what intent was the consultation made. If the booking for example was made for more than 400 days this is a good indication it might be a user mistake.\n",
    "\n",
    "We will now compute de probability density function of the duration and try to assess if there's a significant different between actual sales and only consultations."
   ]
  },
  {
   "cell_type": "code",
   "execution_count": 14,
   "metadata": {},
   "outputs": [
    {
     "data": {
      "text/plain": [
       "<matplotlib.axes._subplots.AxesSubplot at 0x7fbd24906d30>"
      ]
     },
     "execution_count": 14,
     "metadata": {},
     "output_type": "execute_result"
    },
    {
     "data": {
      "image/png": "[encoded data removed]",
      "text/plain": [
       "<Figure size 432x288 with 1 Axes>"
      ]
     },
     "metadata": {},
     "output_type": "display_data"
    }
   ],
   "source": [
    "reservation_duration_sold = (dataset[dataset.sale==1].checkout - dataset[dataset.sale==1].checkin).dt.days\n",
    "reservation_duration_not_sold = (dataset[dataset.sale==0].checkout - dataset[dataset.sale==0].checkin).dt.days\n",
    "\n",
    "X_train['reservation_duration'] = (dataset.checkout - dataset.checkin).dt.days\n",
    "\n",
    "fig = plt.figure()\n",
    "ax = fig.add_subplot(111)\n",
    "reservation_duration_sold.plot(kind='kde', ax=ax, ind=5000, label='Sold')\n",
    "reservation_duration_not_sold.plot(kind='kde', ax=ax, color='red', ind=5000, label='Not sold',title='Probability density function of days per reservation')\n",
    "blue_patch = mpatches.Patch(color='blue', label='Sold')\n",
    "red_patch = mpatches.Patch(color='red', label='Not sold')\n",
    "plt.legend(handles=[blue_patch, red_patch])\n",
    "plt.xlim(-5,20)\n",
    "ax"
   ]
  },
  {
   "cell_type": "markdown",
   "metadata": {},
   "source": [
    "As we can see the signature is similar but different enough that we can observe some slight differences. This could possibly be a useful indicator for purchase intention.\n",
    "\n",
    "Another way to visualize the duration is through a histograms. The next graph contains two histograms stacked on each other, one for actual sales, another for non-sales."
   ]
  },
  {
   "cell_type": "code",
   "execution_count": 15,
   "metadata": {},
   "outputs": [
    {
     "data": {
      "text/plain": [
       "<matplotlib.axes._subplots.AxesSubplot at 0x7fbd2aa89cc0>"
      ]
     },
     "execution_count": 15,
     "metadata": {},
     "output_type": "execute_result"
    },
    {
     "data": {
      "image/png": "[encoded data removed]",
      "text/plain": [
       "<Figure size 432x288 with 1 Axes>"
      ]
     },
     "metadata": {},
     "output_type": "display_data"
    }
   ],
   "source": [
    "fig = plt.figure()\n",
    "ax = fig.add_subplot(111)\n",
    "reservation_duration_not_sold.plot(kind='hist', bins=80, ax=ax, color='red', log=True, label='Not sold')\n",
    "reservation_duration_sold.plot(kind='hist', bins=30, ax=ax, log=True, title='Amount of days per reservation')\n",
    "blue_patch = mpatches.Patch(color='blue', label='Sold')\n",
    "red_patch = mpatches.Patch(color='red', label='Not sold')\n",
    "plt.legend(handles=[blue_patch, red_patch])\n",
    "ax"
   ]
  },
  {
   "cell_type": "markdown",
   "metadata": {},
   "source": [
    "Here the graph reveals that most purchases are much shorter than consultations. This definitely seems like an interesting metric to take into account for analysis. "
   ]
  },
  {
   "cell_type": "markdown",
   "metadata": {},
   "source": [
    "#### Distance between reservation and consultation <a id='DRBAC'></a>\n",
    "\n",
    "How long in advance a trip is being planned might affect how pressured to buy the customer is. People with not a lot of time might not have the luxury of checking a lot of pages.\n",
    "\n",
    "To this end we will undertake an analysis similar to the one given to stay duration."
   ]
  },
  {
   "cell_type": "code",
   "execution_count": 16,
   "metadata": {},
   "outputs": [
    {
     "data": {
      "text/plain": [
       "<matplotlib.axes._subplots.AxesSubplot at 0x7fbd2bca19b0>"
      ]
     },
     "execution_count": 16,
     "metadata": {},
     "output_type": "execute_result"
    },
    {
     "data": {
      "image/png": "[encoded data removed]",
      "text/plain": [
       "<Figure size 432x288 with 1 Axes>"
      ]
     },
     "metadata": {},
     "output_type": "display_data"
    }
   ],
   "source": [
    "preptime_sold = (dataset[dataset.sale==1].checkin - dataset[dataset.sale==1].date).dt.days\n",
    "preptime_not_sold = (dataset[dataset.sale==0].checkin - dataset[dataset.sale==0].date).dt.days\n",
    "X_train['preptime'] = (dataset.checkin - dataset.date).dt.days\n",
    "\n",
    "fig = plt.figure()\n",
    "ax = fig.add_subplot(111)\n",
    "preptime_sold.plot(kind='kde', ax=ax, ind=5000, label='Sold')\n",
    "preptime_not_sold.plot(kind='kde', ax=ax, color='red', ind=5000, label='Not sold',title='Probability density function of preparation time')\n",
    "blue_patch = mpatches.Patch(color='blue', label='Sold')\n",
    "red_patch = mpatches.Patch(color='red', label='Not sold')\n",
    "plt.legend(handles=[blue_patch, red_patch])\n",
    "plt.xlim(-10,300)\n",
    "ax"
   ]
  },
  {
   "cell_type": "code",
   "execution_count": 17,
   "metadata": {},
   "outputs": [
    {
     "data": {
      "text/plain": [
       "<matplotlib.axes._subplots.AxesSubplot at 0x7fbd248de9e8>"
      ]
     },
     "execution_count": 17,
     "metadata": {},
     "output_type": "execute_result"
    },
    {
     "data": {
      "image/png": "[encoded data removed]",
      "text/plain": [
       "<Figure size 432x288 with 1 Axes>"
      ]
     },
     "metadata": {},
     "output_type": "display_data"
    }
   ],
   "source": [
    "fig = plt.figure()\n",
    "ax = fig.add_subplot(111)\n",
    "preptime_not_sold.plot(kind='hist', bins=100, ax=ax, color='red', log=True, label='Not sold')\n",
    "preptime_sold.plot(kind='hist', bins=100, ax=ax, log=True, title='Amount of days per reservation')\n",
    "blue_patch = mpatches.Patch(color='blue', label='Sold')\n",
    "red_patch = mpatches.Patch(color='red', label='Not sold')\n",
    "plt.legend(handles=[blue_patch, red_patch])\n",
    "ax"
   ]
  },
  {
   "cell_type": "markdown",
   "metadata": {},
   "source": [
    "We find something quite interesting when analysing this data.\n",
    "\n",
    "Apparently it is possible to consult historical prices for reservations. This doesn't seem correct as most pages will actively block people from trying that. From my knowledge the customer shouldn't be available to then purchase it but just to make sure we will consult once again the data:"
   ]
  },
  {
   "cell_type": "code",
   "execution_count": 18,
   "metadata": {},
   "outputs": [
    {
     "data": {
      "text/html": [
       "<div>\n",
       "<style scoped>\n",
       "    .dataframe tbody tr th:only-of-type {\n",
       "        vertical-align: middle;\n",
       "    }\n",
       "\n",
       "    .dataframe tbody tr th {\n",
       "        vertical-align: top;\n",
       "    }\n",
       "\n",
       "    .dataframe thead th {\n",
       "        text-align: right;\n",
       "    }\n",
       "</style>\n",
       "<table border=\"1\" class=\"dataframe\">\n",
       "  <thead>\n",
       "    <tr style=\"text-align: right;\">\n",
       "      <th></th>\n",
       "      <th>date</th>\n",
       "      <th>remite_id</th>\n",
       "      <th>checkin</th>\n",
       "      <th>checkout</th>\n",
       "      <th>adults</th>\n",
       "      <th>children</th>\n",
       "      <th>hotel_id</th>\n",
       "      <th>sale</th>\n",
       "    </tr>\n",
       "  </thead>\n",
       "  <tbody>\n",
       "    <tr>\n",
       "      <th>68759</th>\n",
       "      <td>2016-04-04</td>\n",
       "      <td>89</td>\n",
       "      <td>2016-04-03</td>\n",
       "      <td>2016-04-04</td>\n",
       "      <td>2</td>\n",
       "      <td>0</td>\n",
       "      <td>80660</td>\n",
       "      <td>1</td>\n",
       "    </tr>\n",
       "  </tbody>\n",
       "</table>\n",
       "</div>"
      ],
      "text/plain": [
       "            date  remite_id    checkin   checkout  adults  children  hotel_id  \\\n",
       "68759 2016-04-04         89 2016-04-03 2016-04-04       2         0     80660   \n",
       "\n",
       "       sale  \n",
       "68759     1  "
      ]
     },
     "execution_count": 18,
     "metadata": {},
     "output_type": "execute_result"
    }
   ],
   "source": [
    "dataset[((dataset.checkin - dataset.date).dt.days < 0) & dataset.sale == 1]"
   ]
  },
  {
   "cell_type": "markdown",
   "metadata": {},
   "source": [
    "We find a single late purchase through market portal 89 this is *highly unsual* and should be reported/discussed as it doesn't seem to be normal behaviour even if it is only one day late.\n",
    "\n",
    "There are another 79 consultations from 5 distinct portals occured in the past and resulted in non-purchase. We can't determine at first glance if we should exclude these rows or if it is a natural part of the behaviour of the application. "
   ]
  },
  {
   "cell_type": "code",
   "execution_count": 19,
   "metadata": {},
   "outputs": [
    {
     "name": "stdout",
     "output_type": "stream",
     "text": [
      "Number of past consultations: 79\n"
     ]
    }
   ],
   "source": [
    "timedelta = (dataset.checkin - dataset.date).dt.days\n",
    "print(\"Number of past consultations: {}\".format(dataset[((timedelta < 0) & (dataset.sale == 0))].shape[0]))"
   ]
  },
  {
   "cell_type": "markdown",
   "metadata": {},
   "source": [
    "#### Taking holidays into account <a id='THIA'></a>\n",
    "\n",
    "Taking advantage of holidays to go abroad is a quite frequent occurance because of that it might be possible to augment our data by including some special dates as context.\n",
    "\n",
    "While the data collected might not be spanish Destinia has its main market in Spain so the holidays we will take local holidays into account.\n",
    "\n",
    "The next list hast been obtained from https://www.diafestivo.es/ and while it is not a comprehensive list it will serve as a proof-of-concept for the idea."
   ]
  },
  {
   "cell_type": "code",
   "execution_count": 20,
   "metadata": {},
   "outputs": [],
   "source": [
    "holidays={'2016-01-01':'New years eve',\n",
    "          '2016-01-06':'Dia de reyes',\n",
    "          '2016-05-01':'fiesta del trabajo',\n",
    "          '2016-08-15':'Asunción de la Virgen',\n",
    "          '2016-10-12':'Fiesta Nacional de España',\n",
    "          '2016-11-01':'Dia de todos los santos',\n",
    "          '2016-11-06':'Dia de la constitucion',\n",
    "          '2016-11-08':'La inmaculada concepcion',\n",
    "          '2016-12-25':'Navidad',\n",
    "          '2017-01-01':'New years eve',\n",
    "          '2017-01-06':'Dia de reyes',\n",
    "          '2017-05-01':'fiesta del trabajo',\n",
    "          '2017-08-15':'Asunción de la Virgen',\n",
    "          '2017-10-12':'Fiesta Nacional de España',\n",
    "          '2017-11-01':'Dia de todos los santos',\n",
    "          '2017-11-06':'Dia de la constitucion',\n",
    "          '2017-11-08':'La inmaculada concepcion',\n",
    "          '2017-12-25':'Navidad'\n",
    "         }"
   ]
  },
  {
   "cell_type": "code",
   "execution_count": 21,
   "metadata": {},
   "outputs": [],
   "source": [
    "# To do: slow operation could be sped-up with swifter (swiftapply)\n",
    "def landOnHoliday(row):\n",
    "    for date in holidays.keys():\n",
    "        answer = row.checkin < pd.to_datetime(date) < row.checkout\n",
    "        if answer: return answer\n",
    "    return False\n",
    "\n",
    "X_train['includesHoliday'] = X_train.apply(landOnHoliday, axis=1)"
   ]
  },
  {
   "cell_type": "code",
   "execution_count": 22,
   "metadata": {},
   "outputs": [
    {
     "name": "stdout",
     "output_type": "stream",
     "text": [
      "Holiday sale percentage: 0.017087554816270983\n",
      "Not holiday sale percentage: 0.019638910895217444\n"
     ]
    }
   ],
   "source": [
    "percentage = y_train[X_train['includesHoliday']].sum() / y_train[X_train['includesHoliday']].count()\n",
    "print(\"Holiday sale percentage: {}\".format(percentage))\n",
    "not_percentage = y_train[~X_train['includesHoliday']].sum() / y_train[~X_train['includesHoliday']].count()\n",
    "print(\"Not holiday sale percentage: {}\".format(not_percentage))"
   ]
  },
  {
   "cell_type": "markdown",
   "metadata": {},
   "source": [
    "There's a small difference in the mean sale rate but it remains to be seen if this feature will have a big impact on the predictive power of our model."
   ]
  },
  {
   "cell_type": "markdown",
   "metadata": {},
   "source": [
    "#### Encoding days of the year as cyclical features <a id='EDOTYACF'></a>\n",
    "\n",
    "We will now encode our dates as cyclical features as seen in this notebook:\n",
    "https://www.kaggle.com/avanwyk/encoding-cyclical-features-for-deep-learning\n",
    "\n",
    "The rationale behind this particular type of encoding is better ilustrated with an example:\n",
    "\n",
    "In a typical encoding the 31rst of December would be the day 365 while the first of January would be day 1. This introduces a great distance between two dates that by all means are very similar. A cyclic encoding folds the extremes together better allowing our models to understand the cyclical nature of a year.\n",
    "\n",
    "This has been shown to increase performance in not only deep learning but also tree based methods."
   ]
  },
  {
   "cell_type": "code",
   "execution_count": 23,
   "metadata": {},
   "outputs": [],
   "source": [
    "X_train['checkin_day_sin'] = np.sin(2 * np.pi * X_train['checkin'].dt.dayofyear/365.0)\n",
    "X_train['checkin_day_cos'] = np.cos(2 * np.pi * X_train['checkin'].dt.dayofyear/365.0)\n",
    "\n",
    "X_train['checkout_day_sin'] = np.sin(2 * np.pi * X_train['checkout'].dt.dayofyear/365.0)\n",
    "X_train['checkout_day_cos'] = np.cos(2 * np.pi * X_train['checkout'].dt.dayofyear/365.0)"
   ]
  },
  {
   "cell_type": "code",
   "execution_count": 24,
   "metadata": {},
   "outputs": [
    {
     "data": {
      "text/plain": [
       "<matplotlib.axes._subplots.AxesSubplot at 0x7fbd2bc04ef0>"
      ]
     },
     "execution_count": 24,
     "metadata": {},
     "output_type": "execute_result"
    },
    {
     "data": {
      "image/png": "[encoded data removed]",
      "text/plain": [
       "<Figure size 432x288 with 1 Axes>"
      ]
     },
     "metadata": {},
     "output_type": "display_data"
    }
   ],
   "source": [
    "X_train[['checkout_day_sin', 'checkout_day_cos']].plot(\n",
    "    kind='scatter', x='checkout_day_sin',y='checkout_day_cos')"
   ]
  },
  {
   "cell_type": "markdown",
   "metadata": {},
   "source": [
    "By combining the cosine and sine components of our day number we can observe how our values now form a circle."
   ]
  },
  {
   "cell_type": "markdown",
   "metadata": {},
   "source": [
    "### Study of IDs <a id='SOI'></a>\n",
    "\n",
    "IDs can be a great source of information. They can be often use to find relationships among data points and ocassionally can allow us to treat data as a sequence of events through proper formatting and models like RNNs.\n",
    "\n",
    "We are given two sets of ID's we can extract relationships from:\n",
    "\n",
    "- remite_id: the geographical market of the portal (eg kayak.co.uk, kayak.fr, kayak.de, etc)\n",
    "\n",
    "- hotel_id: the hotel clicked on by the user\n",
    "\n",
    "Sadly we have no user IDs but there's still plenty of information to extract. Let's have a look at our range of IDs."
   ]
  },
  {
   "cell_type": "code",
   "execution_count": 25,
   "metadata": {},
   "outputs": [
    {
     "name": "stdout",
     "output_type": "stream",
     "text": [
      "Number of unique remite_ids: 5\n",
      "Number of unique hotel_ids: 9031\n"
     ]
    }
   ],
   "source": [
    "print(\"Number of unique remite_ids: {}\".format(X_train.remite_id.nunique()))\n",
    "print(\"Number of unique hotel_ids: {}\".format(X_train.hotel_id.nunique()))"
   ]
  },
  {
   "cell_type": "markdown",
   "metadata": {},
   "source": [
    "As could be expected the number of portals is small and probably quite stable, it could be interesting to use it as a classification variable as it might reveal interesting insights about different nationalities. We will encode them as a one-hot vector to increase compatibility with different ML approaches. If a new portal appears in the test set in will be encoded as a vector of zeros.\n",
    "\n"
   ]
  },
  {
   "cell_type": "code",
   "execution_count": 26,
   "metadata": {},
   "outputs": [
    {
     "data": {
      "text/html": [
       "<div>\n",
       "<style scoped>\n",
       "    .dataframe tbody tr th:only-of-type {\n",
       "        vertical-align: middle;\n",
       "    }\n",
       "\n",
       "    .dataframe tbody tr th {\n",
       "        vertical-align: top;\n",
       "    }\n",
       "\n",
       "    .dataframe thead th {\n",
       "        text-align: right;\n",
       "    }\n",
       "</style>\n",
       "<table border=\"1\" class=\"dataframe\">\n",
       "  <thead>\n",
       "    <tr style=\"text-align: right;\">\n",
       "      <th></th>\n",
       "      <th>27</th>\n",
       "      <th>89</th>\n",
       "      <th>130</th>\n",
       "      <th>316</th>\n",
       "      <th>317</th>\n",
       "    </tr>\n",
       "  </thead>\n",
       "  <tbody>\n",
       "    <tr>\n",
       "      <th>145654</th>\n",
       "      <td>1</td>\n",
       "      <td>0</td>\n",
       "      <td>0</td>\n",
       "      <td>0</td>\n",
       "      <td>0</td>\n",
       "    </tr>\n",
       "  </tbody>\n",
       "</table>\n",
       "</div>"
      ],
      "text/plain": [
       "        27   89   130  316  317\n",
       "145654    1    0    0    0    0"
      ]
     },
     "execution_count": 26,
     "metadata": {},
     "output_type": "execute_result"
    }
   ],
   "source": [
    "remite_id_dummies = pd.get_dummies(X_train.remite_id)\n",
    "X_train = X_train.join(remite_id_dummies)\n",
    "remite_id_dummies.head(1)"
   ]
  },
  {
   "cell_type": "markdown",
   "metadata": {},
   "source": [
    "As for hotels, the number is much larger and, if my experience with the industry doesn't fail me, it is everchanging.\n",
    "\n",
    "While this is likely not a good candidate for a classification variable there's still plenty of ways we can take advantage of this feature as can be seen in the next section."
   ]
  },
  {
   "cell_type": "markdown",
   "metadata": {},
   "source": [
    "\n",
    "### Assesing hotel popularity <a id='AHP'></a>\n",
    "\n",
    "We will now create an augmented variable derived from how often the hotel is viewed vs bought. This might be interesting as a hotel thumbnail or photo might be eye-catching but the offering itself might be lackluster. This phenomenom is often described as 'clickbait'.\n",
    "\n",
    "First lets make sure the hotel_ids are not unique for every entry and that we can track several clicks to the same page."
   ]
  },
  {
   "cell_type": "code",
   "execution_count": 27,
   "metadata": {},
   "outputs": [
    {
     "name": "stdout",
     "output_type": "stream",
     "text": [
      "count    9031.000000\n",
      "mean       14.010409\n",
      "std        44.658938\n",
      "min         1.000000\n",
      "25%         1.000000\n",
      "50%         3.000000\n",
      "75%         9.000000\n",
      "max      1174.000000\n",
      "dtype: float64\n"
     ]
    },
    {
     "data": {
      "text/plain": [
       "<matplotlib.axes._subplots.AxesSubplot at 0x7fbd2ac05320>"
      ]
     },
     "execution_count": 27,
     "metadata": {},
     "output_type": "execute_result"
    },
    {
     "data": {
      "image/png": "[encoded data removed]",
      "text/plain": [
       "<Figure size 432x288 with 1 Axes>"
      ]
     },
     "metadata": {},
     "output_type": "display_data"
    }
   ],
   "source": [
    "hotels = dataset.groupby(\"hotel_id\")\n",
    "print(hotels.size().describe())\n",
    "hotels.size().hist(bins=200, log=True)"
   ]
  },
  {
   "cell_type": "markdown",
   "metadata": {},
   "source": [
    "Here we have a very skewed distribution of number of visits with a great majority only ever receiving one visit and others receiving over 100 times more. \n",
    "\n",
    "This is very important as getting the sales rate of a hotel with sample views n=1 is not only not statiscally significant but might adversely affect our predictive power. We must however be wear of introduccing bias by only sampling highly visited hotels.\n",
    "\n",
    "In these situations a common technique is to replace the values with the mean. This will not only be used for hotels with very small sample values but also for new hotels for which we have never seen.\n",
    "\n",
    "We utilize the mean as 0 or 1 would be very extreme values to assign to unknown data."
   ]
  },
  {
   "cell_type": "code",
   "execution_count": 28,
   "metadata": {},
   "outputs": [
    {
     "name": "stdout",
     "output_type": "stream",
     "text": [
      "Mean percentage of sales: 0.018745816563705615\n"
     ]
    },
    {
     "data": {
      "text/plain": [
       "<matplotlib.axes._subplots.AxesSubplot at 0x7fbd249f4828>"
      ]
     },
     "execution_count": 28,
     "metadata": {},
     "output_type": "execute_result"
    },
    {
     "data": {
      "image/png": "[encoded data removed]",
      "text/plain": [
       "<Figure size 432x288 with 1 Axes>"
      ]
     },
     "metadata": {},
     "output_type": "display_data"
    }
   ],
   "source": [
    "n = 5\n",
    "filteredHotels = hotels.filter(lambda x: len(x) > n)\n",
    "filteredHotelIds = filteredHotels.unstack().hotel_id.values\n",
    "filteredHotels = dataset[dataset.hotel_id.isin(filteredHotelIds)]\n",
    "hotel_ideality = filteredHotels.groupby(\"hotel_id\").sale.sum() / filteredHotels.groupby(\"hotel_id\").size()\n",
    "mean_ideality = hotel_ideality.mean()\n",
    "print(\"Mean percentage of sales: {}\".format(mean_ideality))\n",
    "hotel_ideality.hist(bins=100,log=True)"
   ]
  },
  {
   "cell_type": "markdown",
   "metadata": {},
   "source": [
    "Interestingly enough the click percentage seems to be composed of four different sections: \n",
    "\n",
    "- A large amount of 0 values\n",
    "- (ranges 0.01-0.08) A rough and largely skewed normal distribution  \n",
    "- (ranges 0.09-0.13) A smaller possible normal distribution\n",
    "- (0.13+) A sparse set of super-performers\n",
    "\n",
    "This indicates that further feature engineering could be done in the future as there seems to be a set of distinct types of hotels as viewed by this metric.\n",
    "\n",
    "We will now augment our training dataset with our findings. (Test augmentation will be done in a separate section)"
   ]
  },
  {
   "cell_type": "code",
   "execution_count": 29,
   "metadata": {},
   "outputs": [],
   "source": [
    "#Improvement: Optimize with defaultDict library to improve escalibility\n",
    "#depending on implementation of \"in\" in Series could be O(n*m)\n",
    "\n",
    "X_train['hotel_ideality'] = X_train.hotel_id.apply(\n",
    "    lambda x: hotel_ideality[x] if x in hotel_ideality else mean_ideality)"
   ]
  },
  {
   "cell_type": "markdown",
   "metadata": {},
   "source": [
    "### Dropping non-procesable data <a id='DNPD'></a>\n",
    "\n",
    "Now we have completed all of our feature engineering it is time to drop the features we won't be able to feed into our models."
   ]
  },
  {
   "cell_type": "code",
   "execution_count": 30,
   "metadata": {},
   "outputs": [],
   "source": [
    "X_train = X_train.drop(columns=['date','checkin','checkout','remite_id','hotel_id'])"
   ]
  },
  {
   "cell_type": "markdown",
   "metadata": {},
   "source": [
    "### Preprocessing the training set <a id='PTTS'></a>\n",
    "\n",
    "Before we can do any sort of predictions on our data we first have preprocess the test set in a manner coherent with our training set transformations.\n",
    "\n",
    "The test data hasn't been taken into account in our analysis to enable us to measure how generalisable our transformations are. Overfitting is not limited to algorithms, it can also be done manually if proper steps are not taken to prevent it."
   ]
  },
  {
   "cell_type": "code",
   "execution_count": 31,
   "metadata": {},
   "outputs": [
    {
     "name": "stdout",
     "output_type": "stream",
     "text": [
      "Reservation day completed\n",
      "Reservation duration completed\n",
      "preptime completed\n",
      "includesHoliday completed\n",
      "Checkin cyclical completed\n",
      "Checkout cyclical completed\n",
      "Ideality completed\n"
     ]
    },
    {
     "data": {
      "text/html": [
       "<div>\n",
       "<style scoped>\n",
       "    .dataframe tbody tr th:only-of-type {\n",
       "        vertical-align: middle;\n",
       "    }\n",
       "\n",
       "    .dataframe tbody tr th {\n",
       "        vertical-align: top;\n",
       "    }\n",
       "\n",
       "    .dataframe thead th {\n",
       "        text-align: right;\n",
       "    }\n",
       "</style>\n",
       "<table border=\"1\" class=\"dataframe\">\n",
       "  <thead>\n",
       "    <tr style=\"text-align: right;\">\n",
       "      <th></th>\n",
       "      <th>adults</th>\n",
       "      <th>children</th>\n",
       "      <th>Friday</th>\n",
       "      <th>Monday</th>\n",
       "      <th>Saturday</th>\n",
       "      <th>Sunday</th>\n",
       "      <th>Thursday</th>\n",
       "      <th>Tuesday</th>\n",
       "      <th>Wednesday</th>\n",
       "      <th>reservation_duration</th>\n",
       "      <th>...</th>\n",
       "      <th>checkin_day_sin</th>\n",
       "      <th>checkin_day_cos</th>\n",
       "      <th>checkout_day_sin</th>\n",
       "      <th>checkout_day_cos</th>\n",
       "      <th>27</th>\n",
       "      <th>89</th>\n",
       "      <th>130</th>\n",
       "      <th>316</th>\n",
       "      <th>317</th>\n",
       "      <th>hotel_ideality</th>\n",
       "    </tr>\n",
       "  </thead>\n",
       "  <tbody>\n",
       "    <tr>\n",
       "      <th>105459</th>\n",
       "      <td>2</td>\n",
       "      <td>0</td>\n",
       "      <td>0</td>\n",
       "      <td>0</td>\n",
       "      <td>0</td>\n",
       "      <td>0</td>\n",
       "      <td>0</td>\n",
       "      <td>1</td>\n",
       "      <td>0</td>\n",
       "      <td>4</td>\n",
       "      <td>...</td>\n",
       "      <td>-0.680773</td>\n",
       "      <td>-0.732494</td>\n",
       "      <td>-0.729558</td>\n",
       "      <td>-0.683919</td>\n",
       "      <td>1</td>\n",
       "      <td>0</td>\n",
       "      <td>0</td>\n",
       "      <td>0</td>\n",
       "      <td>0</td>\n",
       "      <td>0.0</td>\n",
       "    </tr>\n",
       "  </tbody>\n",
       "</table>\n",
       "<p>1 rows × 22 columns</p>\n",
       "</div>"
      ],
      "text/plain": [
       "        adults  children  Friday  Monday  Saturday  Sunday  Thursday  Tuesday  \\\n",
       "105459       2         0       0       0         0       0         0        1   \n",
       "\n",
       "        Wednesday  reservation_duration       ...        checkin_day_sin  \\\n",
       "105459          0                     4       ...              -0.680773   \n",
       "\n",
       "        checkin_day_cos  checkout_day_sin  checkout_day_cos  27  89  130  316  \\\n",
       "105459        -0.732494         -0.729558         -0.683919   1   0    0    0   \n",
       "\n",
       "        317  hotel_ideality  \n",
       "105459    0             0.0  \n",
       "\n",
       "[1 rows x 22 columns]"
      ]
     },
     "execution_count": 31,
     "metadata": {},
     "output_type": "execute_result"
    }
   ],
   "source": [
    "#To do: convert to functions to avoid duplicated code \n",
    "\n",
    "X_test = X_test.join(pd.get_dummies(X_test.date.dt.day_name()))\n",
    "print('Reservation day completed')\n",
    "\n",
    "X_test['reservation_duration'] = (X_test.checkout - X_test.checkin).dt.days\n",
    "print('Reservation duration completed')\n",
    "\n",
    "X_test['preptime'] = (X_test.checkin - X_test.date).dt.days\n",
    "print('preptime completed')\n",
    "\n",
    "X_test['includesHoliday'] = X_test.apply(landOnHoliday, axis=1)\n",
    "print('includesHoliday completed')\n",
    "\n",
    "X_test['checkin_day_sin'] = np.sin(2 * np.pi * X_test['checkin'].dt.dayofyear/365.0)\n",
    "X_test['checkin_day_cos'] = np.cos(2 * np.pi * X_test['checkin'].dt.dayofyear/365.0)\n",
    "print('Checkin cyclical completed')\n",
    "\n",
    "X_test['checkout_day_sin'] = np.sin(2 * np.pi * X_test['checkout'].dt.dayofyear/365.0)\n",
    "X_test['checkout_day_cos'] = np.cos(2 * np.pi * X_test['checkout'].dt.dayofyear/365.0)\n",
    "print('Checkout cyclical completed')\n",
    "\n",
    "X_test = X_test.join(pd.get_dummies(X_test.remite_id)[remite_id_dummies.columns])\n",
    "\n",
    "X_test['hotel_ideality'] = X_test.hotel_id.apply(\n",
    "    lambda x: hotel_ideality[x] if x in hotel_ideality else mean_ideality)\n",
    "print('Ideality completed')\n",
    "\n",
    "X_test = X_test.drop(columns=['date','checkin','checkout','remite_id','hotel_id'])\n",
    "X_test.head(1)"
   ]
  },
  {
   "cell_type": "markdown",
   "metadata": {},
   "source": [
    "With the transformations done we will now ensure that all our columns match as a small sanity check. "
   ]
  },
  {
   "cell_type": "code",
   "execution_count": 32,
   "metadata": {},
   "outputs": [
    {
     "data": {
      "text/plain": [
       "True"
      ]
     },
     "execution_count": 32,
     "metadata": {},
     "output_type": "execute_result"
    }
   ],
   "source": [
    "(X_train.columns == X_test.columns).all()"
   ]
  },
  {
   "cell_type": "markdown",
   "metadata": {},
   "source": [
    "### Dealing with sample imbalance and metric selection <a id='DWSIAMS'></a>\n",
    "\n",
    "As we saw in our independent variable analysis our samples are extremely imbalanced as sales are fairly sparse (only 2% of every consultation results in a sale)\n",
    "\n",
    "This essentially makes metrics such as precission quite misleading as, depending on the use case, recall might be more important.\n",
    "\n",
    "- Precision is defined as true positives divided by the total population.\n",
    "- Recall is defined as true positives divided by the true positives. \n",
    "\n",
    "We will use the f1-score and AUC as they are clearer way to compare our progress. In a real world challenge the type of metric and the balance between precision and recall would be determined by the specific nature of our use case.\n",
    "\n",
    "Personally I find it easier to guage performance easier with AUC than with F1 scores. AUC-ROC can be summed up with the following rule of thumb:\n",
    "\n",
    "- 90-1 = excellent (A)\n",
    "- 80-.90 = good (B)\n",
    "- 70-.80 = fair (C)\n",
    "- 60-.70 = poor (D)\n",
    "- 50-.60 = fail (F)\n",
    "\n",
    "http://gim.unmc.edu/dxtests/roc3.htm\n",
    "\n",
    "https://towardsdatascience.com/understanding-auc-roc-curve-68b2303cc9c5"
   ]
  },
  {
   "cell_type": "code",
   "execution_count": 33,
   "metadata": {},
   "outputs": [],
   "source": [
    "from sklearn.metrics import f1_score, confusion_matrix, accuracy_score, recall_score, roc_auc_score\n",
    "def getScores(y_test, predictions):\n",
    "    predictions = clf.predict(X_test)\n",
    "    fscore = f1_score(y_test,predictions)\n",
    "    prec_score = accuracy_score(y_test,predictions)\n",
    "    prec_zero_score = accuracy_score(y_test,[0]*len(y_test))\n",
    "    rec_score = recall_score(y_test,predictions)\n",
    "    aucscore = roc_auc_score(y_test, predictions)\n",
    "\n",
    "    print(\"Baseline Accuracy: Predicting zeros: {}\".format(prec_zero_score))\n",
    "    print(\"Random-Forest accuracy score: {}\".format(prec_score))\n",
    "    print(\"Random-Forest recall score: {}\".format(rec_score))\n",
    "    print(\"Random-Forest f1 score: {}\".format(fscore))\n",
    "    print(\"Random-Forest ROC AUC score: {}\".format(aucscore))\n",
    "    \n",
    "    return confusion_matrix(y_test, predictions)"
   ]
  },
  {
   "cell_type": "code",
   "execution_count": 34,
   "metadata": {},
   "outputs": [
    {
     "name": "stdout",
     "output_type": "stream",
     "text": [
      "Baseline Accuracy: Predicting zeros: 0.9803053772958619\n",
      "Random-Forest accuracy score: 0.9750893054721336\n",
      "Random-Forest recall score: 0.009630818619582664\n",
      "Random-Forest f1 score: 0.015000000000000001\n",
      "Random-Forest ROC AUC score: 0.5020582342049864\n"
     ]
    },
    {
     "data": {
      "text/plain": [
       "array([[30839,   171],\n",
       "       [  617,     6]])"
      ]
     },
     "execution_count": 34,
     "metadata": {},
     "output_type": "execute_result"
    }
   ],
   "source": [
    "from sklearn.ensemble import RandomForestClassifier\n",
    "\n",
    "clf = RandomForestClassifier(n_estimators=1000, random_state=0, n_jobs=-1)\n",
    "clf.fit(X_train, y_train)\n",
    "predictions = clf.predict(X_test)\n",
    "\n",
    "getScores(y_test, predictions)"
   ]
  },
  {
   "cell_type": "markdown",
   "metadata": {},
   "source": [
    "<a id='BB'></a>\n",
    "As we can see from our results our accuracy is 0.5% lower than just predicting a non-sale every single time. In exchange our recall is 1.1% percent higher up from 0%.\n",
    "\n",
    "The score we will be looking at from now on will be AUC-ROC as it is a clearer method of progress. We will also be keeping an eye on our confusion matrix.\n",
    "\n",
    "#### Simple Undersampling <a id='SU'></a>\n",
    "\n",
    "Tree-based approaches are said to be fairly resilient against unbalanced datasets but this might be too extreme of a case for random-forest. Before we throw any data away by undersampling it we will take advantage of sklearns class_weight functionality that allows us to tweak class weights in accordance with its frequencies.\n",
    "\n"
   ]
  },
  {
   "cell_type": "code",
   "execution_count": 35,
   "metadata": {},
   "outputs": [
    {
     "name": "stdout",
     "output_type": "stream",
     "text": [
      "Baseline Accuracy: Predicting zeros: 0.9803053772958619\n",
      "Random-Forest accuracy score: 0.9462902664938514\n",
      "Random-Forest recall score: 0.06260032102728733\n",
      "Random-Forest f1 score: 0.04389420371412493\n",
      "Random-Forest ROC AUC score: 0.5133220889238339\n"
     ]
    },
    {
     "data": {
      "text/plain": [
       "array([[29895,  1115],\n",
       "       [  584,    39]])"
      ]
     },
     "execution_count": 35,
     "metadata": {},
     "output_type": "execute_result"
    }
   ],
   "source": [
    "clf = RandomForestClassifier(n_estimators=1000, random_state=0, class_weight=\"balanced\",n_jobs=-1)\n",
    "clf.fit(X_train, y_train)\n",
    "predictions = clf.predict(X_test)\n",
    "\n",
    "getScores(y_test, predictions)"
   ]
  },
  {
   "cell_type": "markdown",
   "metadata": {},
   "source": [
    "We immediately see nice bump in recall, f1 scores and ROC AUC while decreasing our accuracy by 4%. The resulting model is better balanced than the previous one but there is still plenty of room for improvement.\n",
    "\n",
    "We will sample a subset of the data with the hopes of improving performance. At this stage we shouldn't be too concerned about the scores themselves but rather if there's any improvement whatsoever by doing a downsample."
   ]
  },
  {
   "cell_type": "code",
   "execution_count": 36,
   "metadata": {},
   "outputs": [],
   "source": [
    "from sklearn.utils import shuffle\n",
    "def dataset_balance(X_train, y_train, ratio):\n",
    "    \n",
    "    training_set = X_train.join(y_train)\n",
    "    sale_training_set = training_set[training_set.sale == 1]\n",
    "    non_sale_training_set = training_set[training_set.sale == 0].sample(ratio*len(sale_training_set),replace=True)\n",
    "    X_balanced_train = shuffle(pd.concat([sale_training_set,non_sale_training_set]))\n",
    "    print(\"Number of samples in subset: {}\".format(len(X_balanced_train)))\n",
    "    y_balanced_train = X_balanced_train.pop('sale')\n",
    "    \n",
    "    return X_balanced_train, y_balanced_train"
   ]
  },
  {
   "cell_type": "code",
   "execution_count": 37,
   "metadata": {},
   "outputs": [
    {
     "name": "stdout",
     "output_type": "stream",
     "text": [
      "Number of samples in subset: 4936\n"
     ]
    }
   ],
   "source": [
    "X_balanced_train, y_balanced_train = dataset_balance(X_train, y_train, 1)"
   ]
  },
  {
   "cell_type": "markdown",
   "metadata": {},
   "source": [
    "Only 4936 samples remain with a perfect 1:1 balance. This is likely not enough for methods like deep learning but we can alter the ratio as we please."
   ]
  },
  {
   "cell_type": "code",
   "execution_count": 38,
   "metadata": {},
   "outputs": [
    {
     "name": "stdout",
     "output_type": "stream",
     "text": [
      "Baseline Accuracy: Predicting zeros: 0.9803053772958619\n",
      "Random-Forest accuracy score: 0.6521038156355704\n",
      "Random-Forest recall score: 0.5008025682182986\n",
      "Random-Forest f1 score: 0.053658956058130536\n",
      "Random-Forest ROC AUC score: 0.5779730351571983\n"
     ]
    },
    {
     "data": {
      "text/plain": [
       "array([[20316, 10694],\n",
       "       [  311,   312]])"
      ]
     },
     "execution_count": 38,
     "metadata": {},
     "output_type": "execute_result"
    }
   ],
   "source": [
    "clf = RandomForestClassifier(n_estimators=1000, random_state=0, n_jobs=-1)\n",
    "clf.fit(X_balanced_train, y_balanced_train)\n",
    "predictions = clf.predict(X_test)\n",
    "\n",
    "getScores(y_test, predictions)"
   ]
  },
  {
   "cell_type": "markdown",
   "metadata": {},
   "source": [
    "With 1:1 we get our accuracy to 64% and our recall to 51%.\n",
    "\n",
    "Our ROC-AUC and F1 scores are increased significantly, we can now see your model is much more balanced than before.\n",
    "\n",
    "Our key takeaways from this section are:\n",
    "\n",
    "- Class balacing increases f1-scoring and ROC AUC.\n",
    "- Methods like tweaking class weights can help increase performance."
   ]
  },
  {
   "cell_type": "markdown",
   "metadata": {},
   "source": [
    "#### Advanced oversampling and undersampling (SMOTEENN) <a id='SMOTEENN'></a>"
   ]
  },
  {
   "cell_type": "markdown",
   "metadata": {},
   "source": [
    "This oversampling and undersampling approach combines SMOTE and Edited Nearest Neighbours to balance samples.\n",
    "\n",
    "Further reading:\n",
    "\n",
    "G. Batista, R. C. Prati, M. C. Monard. “A study of the behavior of several methods for balancing machine learning training data,” ACM Sigkdd Explorations Newsletter 6 (1), 20-29, 2004."
   ]
  },
  {
   "cell_type": "code",
   "execution_count": 39,
   "metadata": {},
   "outputs": [
    {
     "data": {
      "text/html": [
       "<div>\n",
       "<style scoped>\n",
       "    .dataframe tbody tr th:only-of-type {\n",
       "        vertical-align: middle;\n",
       "    }\n",
       "\n",
       "    .dataframe tbody tr th {\n",
       "        vertical-align: top;\n",
       "    }\n",
       "\n",
       "    .dataframe thead th {\n",
       "        text-align: right;\n",
       "    }\n",
       "</style>\n",
       "<table border=\"1\" class=\"dataframe\">\n",
       "  <thead>\n",
       "    <tr style=\"text-align: right;\">\n",
       "      <th></th>\n",
       "      <th>adults</th>\n",
       "      <th>children</th>\n",
       "      <th>Friday</th>\n",
       "      <th>Monday</th>\n",
       "      <th>Saturday</th>\n",
       "      <th>Sunday</th>\n",
       "      <th>Thursday</th>\n",
       "      <th>Tuesday</th>\n",
       "      <th>Wednesday</th>\n",
       "      <th>reservation_duration</th>\n",
       "      <th>...</th>\n",
       "      <th>checkin_day_sin</th>\n",
       "      <th>checkin_day_cos</th>\n",
       "      <th>checkout_day_sin</th>\n",
       "      <th>checkout_day_cos</th>\n",
       "      <th>27</th>\n",
       "      <th>89</th>\n",
       "      <th>130</th>\n",
       "      <th>316</th>\n",
       "      <th>317</th>\n",
       "      <th>hotel_ideality</th>\n",
       "    </tr>\n",
       "  </thead>\n",
       "  <tbody>\n",
       "    <tr>\n",
       "      <th>0</th>\n",
       "      <td>1.0</td>\n",
       "      <td>0.0</td>\n",
       "      <td>0.0</td>\n",
       "      <td>0.0</td>\n",
       "      <td>0.0</td>\n",
       "      <td>0.0</td>\n",
       "      <td>1.0</td>\n",
       "      <td>0.0</td>\n",
       "      <td>0.0</td>\n",
       "      <td>1.0</td>\n",
       "      <td>...</td>\n",
       "      <td>0.963471</td>\n",
       "      <td>-0.267814</td>\n",
       "      <td>0.958718</td>\n",
       "      <td>-0.284359</td>\n",
       "      <td>1.0</td>\n",
       "      <td>0.0</td>\n",
       "      <td>0.0</td>\n",
       "      <td>0.0</td>\n",
       "      <td>0.0</td>\n",
       "      <td>0.0</td>\n",
       "    </tr>\n",
       "  </tbody>\n",
       "</table>\n",
       "<p>1 rows × 22 columns</p>\n",
       "</div>"
      ],
      "text/plain": [
       "   adults  children  Friday  Monday  Saturday  Sunday  Thursday  Tuesday  \\\n",
       "0     1.0       0.0     0.0     0.0       0.0     0.0       1.0      0.0   \n",
       "\n",
       "   Wednesday  reservation_duration       ...        checkin_day_sin  \\\n",
       "0        0.0                   1.0       ...               0.963471   \n",
       "\n",
       "   checkin_day_cos  checkout_day_sin  checkout_day_cos   27   89  130  316  \\\n",
       "0        -0.267814          0.958718         -0.284359  1.0  0.0  0.0  0.0   \n",
       "\n",
       "   317  hotel_ideality  \n",
       "0  0.0             0.0  \n",
       "\n",
       "[1 rows x 22 columns]"
      ]
     },
     "execution_count": 39,
     "metadata": {},
     "output_type": "execute_result"
    }
   ],
   "source": [
    "from imblearn.combine import SMOTEENN\n",
    "\n",
    "oversampler = SMOTEENN(random_state=0)\n",
    "X_SMOTE_train, y_SMOTE_train = oversampler.fit_sample(X_train, y_train)\n",
    "len(X_SMOTE_train)\n",
    "X_SMOTE_train = pd.DataFrame(X_SMOTE_train, columns = X_train.columns)\n",
    "y_SMOTE_train = pd.DataFrame(y_SMOTE_train, columns = [y_train.name])\n",
    "X_SMOTE_train.head(1)"
   ]
  },
  {
   "cell_type": "code",
   "execution_count": 40,
   "metadata": {},
   "outputs": [
    {
     "name": "stderr",
     "output_type": "stream",
     "text": [
      "/home/skymont/anaconda3/envs/destinia/lib/python3.5/site-packages/ipykernel_launcher.py:2: DataConversionWarning: A column-vector y was passed when a 1d array was expected. Please change the shape of y to (n_samples,), for example using ravel().\n",
      "  \n"
     ]
    },
    {
     "name": "stdout",
     "output_type": "stream",
     "text": [
      "Baseline Accuracy: Predicting zeros: 0.9803053772958619\n",
      "Random-Forest accuracy score: 0.9427180476085101\n",
      "Random-Forest recall score: 0.08667736757624397\n",
      "Random-Forest f1 score: 0.05625\n",
      "Random-Forest ROC AUC score: 0.5232967618274642\n"
     ]
    },
    {
     "data": {
      "text/plain": [
       "array([[29767,  1243],\n",
       "       [  569,    54]])"
      ]
     },
     "execution_count": 40,
     "metadata": {},
     "output_type": "execute_result"
    }
   ],
   "source": [
    "clf = RandomForestClassifier(n_estimators=1000, random_state=0, n_jobs=-1)\n",
    "clf.fit(X_SMOTE_train, y_SMOTE_train)\n",
    "predictions = clf.predict(X_test)\n",
    "\n",
    "getScores(y_test, predictions)\n"
   ]
  },
  {
   "cell_type": "markdown",
   "metadata": {},
   "source": [
    "### Feature Selection and Evaluation <a id='FSAE'></a>\n",
    "\n",
    "In the previous sections we designed a couple of features from the data given to us. We will now utilize random forest to try to approximate which features are the most important."
   ]
  },
  {
   "cell_type": "code",
   "execution_count": 41,
   "metadata": {},
   "outputs": [],
   "source": [
    "clf = RandomForestClassifier(n_estimators=1000, random_state=0, n_jobs=-1)\n",
    "clf.fit(X_balanced_train, y_balanced_train)\n",
    "\n",
    "features = X_train.columns\n",
    "importances = clf.feature_importances_\n",
    "indices = np.argsort(importances)"
   ]
  },
  {
   "cell_type": "code",
   "execution_count": 42,
   "metadata": {},
   "outputs": [
    {
     "data": {
      "image/png": "[encoded data removed]",
      "text/plain": [
       "<Figure size 432x288 with 1 Axes>"
      ]
     },
     "metadata": {},
     "output_type": "display_data"
    }
   ],
   "source": [
    "importances = np.array(sorted(importances, reverse=True))\n",
    "indices = np.argsort(importances)\n",
    "\n",
    "top20_RF_dataframe_downsampled = [features[i] for i in indices]\n",
    "\n",
    "plt.title('Feature Importance')\n",
    "plt.barh(range(len(indices)), importances[indices], align='center')\n",
    "plt.yticks(range(len(indices)),top20_RF_dataframe_downsampled)\n",
    "plt.xlabel('Relative Importance')\n",
    "plt.show()"
   ]
  },
  {
   "cell_type": "markdown",
   "metadata": {},
   "source": [
    "Here we see how some of our engineered features have had a decent impact on our performance. However, they are eclipsed by importance of the feature containing the amount of adults.\n",
    "\n",
    "A big disappointment was how little predictive power did the hotel ideality end up having. There are a couple possible culprits for this, the main one being a possible high number of hotels not reaching the threshold and defaulting to the average probability. "
   ]
  },
  {
   "cell_type": "markdown",
   "metadata": {},
   "source": [
    "## Building a model <a id='BAM'></a>"
   ]
  },
  {
   "cell_type": "markdown",
   "metadata": {},
   "source": [
    "We will now conduct several trials with different models, there are many to choose from but our study will be limited to the most popular models known for its performance:\n",
    "\n",
    "- Support Vector Machines\n",
    "- XGboost\n",
    "- Artificial Neural Networks\n",
    "\n",
    "\n",
    "### Support Vector Machines <a id='SVM'></a>\n",
    "\n"
   ]
  },
  {
   "cell_type": "code",
   "execution_count": 43,
   "metadata": {},
   "outputs": [],
   "source": [
    "from sklearn.svm import SVC\n",
    "def SVM_search(kernels, train_data, X_test, y_test):\n",
    "\n",
    "    for name, X_train, y_train in train_data:\n",
    "        print(\"Scores for \"+name)\n",
    "        \n",
    "        for kernel in kernels:\n",
    "            svc=SVC(kernel=kernel, gamma='auto')\n",
    "            svc.fit(X_train,y_train)\n",
    "            y_pred=svc.predict(X_test)\n",
    "            print('--'+kernel+' kernel accuracy_score: {0}'.format(roc_auc_score(y_test,y_pred)))\n",
    "    \n",
    "\n",
    "def SVM_kernel_search(args):\n",
    "    kernels, name, X_train, y_train, X_test, y_test = args\n",
    "    output = \"Scores for \"+name+\":\\n\"\n",
    "    for kernel in kernels:\n",
    "        svc=SVC(kernel=kernel, gamma='auto')\n",
    "        svc.fit(X_train,y_train)\n",
    "        y_pred=svc.predict(X_test)\n",
    "        output += '--'+kernel+' kernel f1_score: {0} \\n'.format(roc_auc_score(y_test,y_pred))\n",
    "    return output\n",
    "    \n",
    "            \n",
    "def SVM_parallel_search(kernels, train_data, X_test, y_test):\n",
    "    jobs = [(kernels, name, X_train, y_train, X_test, y_test) for name, X_train, y_train in train_data]\n",
    "    print(pool.map(SVM_kernel_search, jobs))"
   ]
  },
  {
   "cell_type": "markdown",
   "metadata": {},
   "source": [
    "Based on our results from the class balancing experiments we now benchmark our two best performing datasets with a support vector machines and evaluate de difference in performance between them.\n",
    "\n",
    "In future experiments it might be desirable to use the original dataset as a control but SVC are notorious for their bad scalability with high number of samples with it's tendency being O(n_samples^2 * n_features). This is made even worse by the fact that traditional SVMs can't be parallelised, the best we can hope for is to distribute processor time between different models. "
   ]
  },
  {
   "cell_type": "code",
   "execution_count": 88,
   "metadata": {},
   "outputs": [
    {
     "name": "stdout",
     "output_type": "stream",
     "text": [
      "Scores for downsampled dataset\n",
      "--linear kernel accuracy_score: 0.5830214247669292\n",
      "--rbf kernel accuracy_score: 0.5877382794241799\n",
      "--poly kernel accuracy_score: 0.5772715579244101\n"
     ]
    }
   ],
   "source": [
    "kernels=['linear','rbf','poly']\n",
    "train_data=[#('Original dataset', X_train.head(200), y_train.head(200)),\n",
    "            ('downsampled dataset', X_balanced_train, y_balanced_train),\n",
    "            #('SMOTEENN dataset', X_SMOTE_train, y_SMOTE_train),\n",
    "            #('toy set', X_train.head(200), y_train.head(200))\n",
    "           ]\n",
    "SVM_search(kernels, train_data, X_test, y_test)"
   ]
  },
  {
   "cell_type": "markdown",
   "metadata": {},
   "source": [
    "Scores for downsampled dataset\n",
    "- linear kernel f1_score: 0.0625\n",
    "\n",
    "- rbf kernel f1_score: 0.05115259416727562\n",
    "\n",
    "- poly kernel f1_score: 0.053603442093940475"
   ]
  },
  {
   "cell_type": "markdown",
   "metadata": {},
   "source": [
    "### XGboost <a id='XGB'></a>"
   ]
  },
  {
   "cell_type": "code",
   "execution_count": 46,
   "metadata": {},
   "outputs": [],
   "source": [
    "import xgboost as xgb\n",
    "from xgboost.sklearn import XGBClassifier\n",
    "\n",
    "\n",
    "def XGboost_search(train_data, X_test, y_test):\n",
    "    for name, X_train, y_train in train_data:\n",
    "        model = XGBClassifier()\n",
    "        model.fit(X_train, y_train)\n",
    "        y_pred = model.predict(X_test)\n",
    "        predictions = [round(value) for value in y_pred]\n",
    "        print('--'+name+' f1_score: {0}'.format(roc_auc_score(y_test,y_pred)))\n",
    "    "
   ]
  },
  {
   "cell_type": "code",
   "execution_count": null,
   "metadata": {},
   "outputs": [],
   "source": [
    "train_data=[('Original dataset', X_train, y_train.values.ravel()),\n",
    "            ('downsampled dataset', X_balanced_train, y_balanced_train.values.ravel()),\n",
    "            ('SMOTEENN dataset', X_SMOTE_train, y_SMOTE_train.values.ravel()),\n",
    "            #('toy set', X_train.head(200), y_train.head(200))\n",
    "           ]\n",
    "XGboost_search(train_data, X_test, y_test)"
   ]
  },
  {
   "cell_type": "markdown",
   "metadata": {},
   "source": [
    "Initial XGBoost results:\n",
    "- Original dataset \n",
    "\n",
    "    - f1_score: 0.0\n",
    "    - auc_score: 0.5\n",
    "\n",
    "- downsampled dataset \n",
    "\n",
    "    - f1_score: 0.055517711171662126\n",
    "    - roc_auc_score: 0.5869480305374489\n",
    "\n",
    "- SMOTEENN dataset \n",
    "\n",
    "    - f1_score: 0.06811145510835914\n",
    "    - dataset roc_auc_score: 0.5708069886843317\n",
    "\n",
    "Here we see the clear effects of class imbalance. Our model trained on the original dataset has learnt to only predict a non-sale while our more balanced models are showing better f1 and ROC_AUC scores."
   ]
  },
  {
   "cell_type": "markdown",
   "metadata": {},
   "source": [
    "## Model tunning <a id='MT'></a>\n",
    "\n",
    "Model tunning is a complex problem that can be very tedious and computationally expensive process. Determining the right parameters often is more of an art than a science relying mainly on previous experience and a few general guidelines.\n",
    "\n",
    "To mitigate some of that we will take a page out of Google's book and use some meta-learning techniques. Sadly, we lack the infrastructure to do a wide scale analysis so we will only move forward with our most promissing candidates for SVM and XGboost:\n",
    "\n",
    "- SVM: Regularly downsampled dataset with Linear Kernel\n",
    "- XGboost: Trained on SMOTEENN Dataset\n"
   ]
  },
  {
   "cell_type": "markdown",
   "metadata": {},
   "source": [
    "### Grid Search for SVMs <a id='GSSVM'></a>\n",
    "\n",
    "By fixing the dataset and the kernel to be used our problem space is severely reduced to the point where the only main other experimental variable left is C.\n",
    "\n",
    "The variable C is a regularization parameter. For large values of C the algorithm aims to classify as many samples correctly while at a low C it prioritizes higher margins between the hyperplane and the samples."
   ]
  },
  {
   "cell_type": "code",
   "execution_count": null,
   "metadata": {},
   "outputs": [],
   "source": [
    "C_range=list(range(20,38))\n",
    "from sklearn.svm import SVC\n",
    "from sklearn.model_selection import cross_val_score\n",
    "from sklearn.metrics.scorer import make_scorer\n",
    "\n",
    "acc_score=[]\n",
    "for c in tqdm(C_range):\n",
    "    svc = SVC(kernel='linear', C=c)\n",
    "    scores = cross_val_score(svc, X_balanced_train, y_balanced_train, cv=5, scoring=make_scorer(roc_auc_score))\n",
    "    acc_score.append(scores.mean())"
   ]
  },
  {
   "cell_type": "code",
   "execution_count": 50,
   "metadata": {},
   "outputs": [
    {
     "data": {
      "text/plain": [
       "Text(0,0.5,'Cross-Validated Accuracy')"
      ]
     },
     "execution_count": 50,
     "metadata": {},
     "output_type": "execute_result"
    },
    {
     "data": {
      "image/png": "[encoded data removed]",
      "text/plain": [
       "<Figure size 432x288 with 1 Axes>"
      ]
     },
     "metadata": {},
     "output_type": "display_data"
    }
   ],
   "source": [
    "plt.plot(C_range,acc_score)\n",
    "plt.xticks(np.arange(20,38,1))\n",
    "plt.xlabel('Value of C for SVC, linear')\n",
    "plt.ylabel('Cross-Validated Accuracy')"
   ]
  },
  {
   "cell_type": "code",
   "execution_count": 56,
   "metadata": {},
   "outputs": [
    {
     "name": "stdout",
     "output_type": "stream",
     "text": [
      "--linear kernel C=30 ROC AUC: 0.5720342115084297 \n",
      "\n"
     ]
    }
   ],
   "source": [
    "svc=SVC(kernel='linear', C=30)\n",
    "svc.fit(X_balanced_train,y_balanced_train)\n",
    "y_pred=svc.predict(X_test)\n",
    "print('--linear kernel C=30 ROC AUC: {0} \\n'.format(roc_auc_score(y_test,y_pred)))"
   ]
  },
  {
   "cell_type": "markdown",
   "metadata": {},
   "source": [
    "We can see that with our relatively short and very coarse search for the optimal value of C we weren't able to find a better performance than in our first run with our balanced dataset. Not to be discouraged, a thorough tuning would at least yield the results seen in our previous attempt and often leads to increased performance.\n",
    "\n",
    "We can see from our steep performance reduction in the test dataset that our model seems to be overfitting our balanced dataset and not generalising successfully to our test set.\n",
    "\n",
    "The next steps down this route would extend the search of C further until we saw a decrease in performance and then reduce the step at which C increases, refining the optimization. "
   ]
  },
  {
   "cell_type": "markdown",
   "metadata": {},
   "source": [
    "### Bayesian optimization and XGBoost <a id='BOXGB'></a>\n",
    "\n",
    "XGBoost models have a great amount of parameters to optimize. This makes the problem space insurmountable for brute-force approaches like grid search. This bayesian optimization library treats what it is optimizing as a black-box and hence has a great range of applications\n",
    "\n",
    "For a detailed under the hood explanation on how this optimization process works please head to: https://github.com/fmfn/BayesianOptimization"
   ]
  },
  {
   "cell_type": "code",
   "execution_count": null,
   "metadata": {},
   "outputs": [],
   "source": [
    "from bayes_opt import BayesianOptimization\n",
    "import warnings\n",
    "warnings.filterwarnings(action='once')\n",
    "xgtrain = xgb.DMatrix(X_balanced_train, label=y_balanced_train)\n",
    "\n",
    "def xg_f1(y,t):\n",
    "    t = t.get_label()\n",
    "    y_bin = [round(value) for value in y]\n",
    "    return 'f1',f1_score(t,y_bin)\n",
    "\n",
    "def xgb_evaluate(min_child_weight,\n",
    "                 colsample_bytree,\n",
    "                 max_depth,\n",
    "                 subsample,\n",
    "                 gamma,\n",
    "                 alpha,\n",
    "                 n_estimators):\n",
    "\n",
    "    params['min_child_weight'] = int(min_child_weight)\n",
    "    params['colsample_bytree'] = max(min(colsample_bytree, 1), 0)\n",
    "    params['max_depth'] = int(max_depth)\n",
    "    params['subsample'] = max(min(subsample, 1), 0)\n",
    "    params['gamma'] = max(gamma, 0)\n",
    "    params['alpha'] = max(alpha, 0)\n",
    "    params['n_estimators'] = int(n_estimators)\n",
    "\n",
    "\n",
    "    cv_result = xgb.cv(params, xgtrain, num_boost_round=100, nfold=5,\n",
    "             seed=random_state,\n",
    "             callbacks=[xgb.callback.early_stop(5)], feval=xg_f1)\n",
    "    return cv_result['test-f1-mean'].values[-1]\n",
    "\n",
    "\n",
    "random_state = 17\n",
    "num_iter = 50\n",
    "init_points = 25\n",
    "params = {\n",
    "    'eta': 0.1,\n",
    "    'silent': 1,\n",
    "    'nthread':4,\n",
    "    'eval_metric': 'error',\n",
    "    'verbose_eval': False,\n",
    "    'seed': 17,\n",
    "    'learning_rate':0.1\n",
    "}\n",
    "\n",
    "xgbBO = BayesianOptimization(xgb_evaluate, {'min_child_weight': (1, 20),\n",
    "                                            'colsample_bytree': (0.1, 1),\n",
    "                                            'max_depth': (3, 50),\n",
    "                                            'subsample': (0.5, 1),\n",
    "                                            'gamma': (0, 15),\n",
    "                                            'alpha': (0, 15),\n",
    "                                            'n_estimators':(200, 5000)\n",
    "                                            })\n",
    "\n",
    "xgbBO.maximize(init_points=init_points, n_iter=num_iter)"
   ]
  },
  {
   "cell_type": "markdown",
   "metadata": {},
   "source": [
    "After 75 steps we arrive at a combination of parameters that achieves a score of 0.70 in our SMOTEENN dataset. We will now validate those parameters on our test dataset to see what improvement is there, if any."
   ]
  },
  {
   "cell_type": "code",
   "execution_count": null,
   "metadata": {},
   "outputs": [],
   "source": [
    "print(xgbBO.res['max'])\n",
    "min_child_weight = int(xgbBO.res['max']['max_params']['min_child_weight'])\n",
    "colsample_bytree = int(xgbBO.res['max']['max_params']['colsample_bytree'])\n",
    "max_depth = int(xgbBO.res['max']['max_params']['max_depth'])\n",
    "subsample = float(xgbBO.res['max']['max_params']['subsample'])\n",
    "gamma = float(xgbBO.res['max']['max_params']['gamma'])\n",
    "alpha = float(xgbBO.res['max']['max_params']['alpha'])\n",
    "n_estimators = int(xgbBO.res['max']['max_params']['n_estimators'])\n",
    "\n",
    "model = XGBClassifier(n_estimators=n_estimators, \n",
    "                      alpha=alpha, \n",
    "                      gamma=gamma, \n",
    "                      subsample=subsample, \n",
    "                      max_depth=max_depth,\n",
    "                      colsample_bytree=1,\n",
    "                     )\n",
    "\n",
    "model.fit(X_SMOTE_train, y_SMOTE_train.values.ravel(),eval_metric='auc')\n",
    "y_pred = model.predict(X_test)\n",
    "predictions = [round(value) for value in y_pred]\n",
    "print('--BayesOpt XGboost'+' ROC_AUC_score: {0}'.format(roc_auc_score(y_test,y_pred)))"
   ]
  },
  {
   "cell_type": "markdown",
   "metadata": {},
   "source": [
    "Once again our score is significantly reduced in the real test_set indicating a fair amount of overfitting in the model. "
   ]
  },
  {
   "cell_type": "markdown",
   "metadata": {},
   "source": [
    "### Artificial Neural Networks <a id='BOXGB'></a>\n",
    "\n",
    "ANNs can be very powerful predictive models with a very wide range of applications. Binary classification is relatively straight forward to do but this approach has a few pitfalls:\n",
    "\n",
    "- Tendency to overfit\n",
    "- Susceptible to class imbalance\n",
    "- High computational cost for larger models\n",
    "- Limitations on deployment (Edge-computing)\n",
    "\n",
    "For a first look at the performance of ANNs we will use the Keras library. Keras  is an api on top of Tensorflow that trades some fine-control of models with usability and development-speed. Alternatively we could use \"Tensorflow.Keras\" a keras-like API included in Tensorflow for a similar effect.\n",
    "\n",
    "The following code is just a multi-layer preceptron similar to the one that can be found in Sci-kit learn."
   ]
  },
  {
   "cell_type": "code",
   "execution_count": null,
   "metadata": {},
   "outputs": [],
   "source": [
    "num_classes = 2\n",
    "\n",
    "import keras\n",
    "from keras.models import Sequential\n",
    "from keras.layers import Dense, Dropout\n",
    "from keras.optimizers import RMSprop\n",
    "\n",
    "model = Sequential()\n",
    "model.add(Dense(len(X_train.columns), activation='relu'))\n",
    "model.add(Dropout(0.4))\n",
    "model.add(Dense(512, activation='relu'))\n",
    "model.add(Dropout(0.3))\n",
    "model.add(Dense(512, activation='relu'))\n",
    "model.add(Dropout(0.2))\n",
    "model.add(Dense(num_classes,activation='softmax'))"
   ]
  },
  {
   "cell_type": "code",
   "execution_count": null,
   "metadata": {},
   "outputs": [],
   "source": [
    "import numpy as np\n",
    "from keras.callbacks import Callback\n",
    "from sklearn.metrics import confusion_matrix, f1_score, precision_score, recall_score\n",
    "from keras.utils import to_categorical\n",
    "from keras import backend as K\n",
    "\n",
    "batch_size = 5000\n",
    "epochs = 15\n",
    "\n",
    "def keras_f1_score(y_true, y_pred):\n",
    "\n",
    "    # Count positive samples.\n",
    "    c1 = K.sum(K.round(K.clip(y_true * y_pred, 0, 1)))\n",
    "    c2 = K.sum(K.round(K.clip(y_pred, 0, 1)))\n",
    "    c3 = K.sum(K.round(K.clip(y_true, 0, 1)))\n",
    "\n",
    "    # If there are no true samples, fix the F1 score at 0.\n",
    "    if c3 == 0:\n",
    "        return 0\n",
    "\n",
    "    # How many selected items are relevant?\n",
    "    precision = c1 / c2\n",
    "\n",
    "    # How many relevant items are selected?\n",
    "    recall = c1 / c3\n",
    "\n",
    "    # Calculate f1_score\n",
    "    f1_score = 2 * ((precision * recall) / (precision + recall))\n",
    "    return f1_score\n",
    "\n",
    "opt = keras.optimizers.Adam(lr=0.001, beta_1=0.9, beta_2=0.999, epsilon=1e-08, decay=0.0)\n",
    "\n",
    "model.compile(loss='categorical_crossentropy',\n",
    "              optimizer=opt, metrics=[keras_f1_score])\n",
    "\n",
    "history = model.fit(\n",
    "    X_SMOTE_train.values, to_categorical(y_SMOTE_train.values),\n",
    "    validation_data=(X_test, to_categorical(y_test)),\n",
    "    batch_size=batch_size,epochs=epochs,\n",
    "    verbose=1)\n",
    "\n",
    "predictions = model.predict(X_test).argmax(axis=1)\n",
    "roc_auc_score(y_test, predictions)"
   ]
  },
  {
   "cell_type": "markdown",
   "metadata": {},
   "source": [
    "As expected performance is relatively poor in comparison to the other approaches we've covered. \n",
    "\n",
    "Overfitting poses a big challenge our situation. Using the original unbalanced dataset results in a 0.03 f1-score and using the balanced downsampled set results in extremely fast overfitting as well as poor performance. \n",
    "\n",
    "Even the best performing dataset (SMOTEENN) encounters overfitting issues fairly quickly. "
   ]
  },
  {
   "cell_type": "markdown",
   "metadata": {},
   "source": [
    "## Further Work <a id='FW'></a>\n",
    "\n",
    "Be it due to time constraints or lack of features in the dataset there are a number of points that weren't able to be included but I would like to mention as it could provide value in the future.\n",
    "\n",
    "### Further feature engineering. <a id='FFE'></a>\n",
    "\n",
    "I believe big source of uncertainty comes from the lack user_ids in the data, while it is not always possible to collect them that doesn't mean it couldn't be found out.\n",
    "\n",
    "It is possible that with the right kind of clustering we can associate consultations together essentially de-anonimizing the data or at the very list determining if there are several types of consultations with the features given to us. This if combined with timestamps on the consultations would possibly allow us to treat a user's consultation as a sequence of events leading to an outcome.\n",
    "\n",
    "On the subject of further data collection, it is safe to say that the hotel's characteristics (Rooms, busy periods, location, price, discounts) would probably allow us to have better insights into what determines a sale or not.\n",
    "\n",
    "Due to time constraints other measures of feature importance have not been tested. A popular approach we haven't seen is PCA decompsition. It would not only allow us to potentially reduce the amount of features we feed into the model but we would be also be able to see which features account for most of the variance. \n",
    "\n",
    "### Different models <a id='DM'></a>\n",
    "\n",
    "The naive bayes family of algorithms are known to be able to tackle edge-cases very effectively when compared to the models we have covered here. It is possible that this approach would have yielded better results with adequate feature engineering.\n",
    "\n",
    "One possible way of increasing the performance of the ANN approach would be to implement an asymmetric loss function that penalizes missed sales (False Negatives) more than it penalizes (False positives) while retaining as much of the data as possible. This could potentially raise the accuracy level while encouraging the model to predict sales.\n",
    "\n",
    "Further experimentation with ANN tuning would also be a possible next step, there are plenty of different compositions, activation functions and optimizers that could be tested and would likely result in a performance bump.\n",
    "\n",
    "### Use case definition <a id='UCD'></a>\n",
    "\n",
    "Without a proper definition of the use case it can be challenging to gauge success of an algorithm. As it stands, our proposed models happily compromise on accuracy with the hopes of actually predicting a sale. This could potentially be catastrophic if the use case was the automated reservation of a hotel. In that case a false positives would be something penalize heavily. \n",
    "\n",
    "### Conclusion <a id='CTY'></a>\n",
    "\n",
    "While we only manage present a poor predictor of sales (Just under 0.60 ROC AUC) in this document a lot groundwork has been laid to be built upon. \n",
    "\n",
    "I'd like to thank Destinia for providing me with the opportunity of facing this challenge. I look forward to hearing feedback on this analysis, be it positive or negative. "
   ]
  }
 ],
 "metadata": {
  "kernelspec": {
   "display_name": "destinia(3.5)",
   "language": "python",
   "name": "myenv"
  },
  "language_info": {
   "codemirror_mode": {
    "name": "ipython",
    "version": 3
   },
   "file_extension": ".py",
   "mimetype": "text/x-python",
   "name": "python",
   "nbconvert_exporter": "python",
   "pygments_lexer": "ipython3",
   "version": "3.5.5"
  }
 },
 "nbformat": 4,
 "nbformat_minor": 2
}
